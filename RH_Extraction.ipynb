{
 "cells": [
  {
   "cell_type": "code",
   "execution_count": 6,
   "id": "cab0bfc1-eb54-4144-94b6-b5b0b89615aa",
   "metadata": {},
   "outputs": [
    {
     "name": "stdout",
     "output_type": "stream",
     "text": [
      "[53.0, 57.0, 58.0, 59.0, 62.0, 65.0, 68.0, 70.0, 72.0, 71.0, 74.0, 75.0, 79.0, 81.0, 74.0, 64.0, 59.0, 53.0, 46.0, 40.0, 39.0, 34.0, 32.0, 32.0, 31.0, 31.0, 34.0, 41.0, 55.0, 64.0, 66.0, 67.0, 68.0, 73.0, 82.0, 85.0, 82.0, 84.0, 66.0, 58.0, 53.0, 48.0, 43.0, 37.0, 35.0, 34.0, 32.0, 31.0, 31.0, 33.0, 38.0, 42.0, 47.0, 50.0, 46.0, 49.5, 53.0, 71.0, 80.0, 79.0, 82.0, 81.0, 59.0, 46.0, 44.0, 42.0, 41.0, 35.0, 29.0, 26.0, 24.0, 24.0, 29.0, 30.0, 33.0, 37.0, 41.0, 47.0, 42.0, 49.0, 56.0, 66.0, 77.0, 84.0, 90.0, 86.0, 61.0, 52.0, 46.0, 46.0, 41.0, 34.0, 30.0, 23.0, 22.0, 25.0, 28.0, 32.0, 29.0, 31.0, 33.0, 41.0, 46.0, 49.0, 52.0, 60.0, 65.0, 64.0, 66.0, 69.0, 65.0, 57.0, 53.0, 42.0, 38.0, 34.0, 33.0, 35.0, 37.0, 38.0, 37.0, 42.0, 51.0, 60.0, 65.0, 63.0, 62.0, 65.0, 68.0, 69.0, 71.0, 73.0, 74.0, 72.0, 65.0, 59.0, 53.0, 48.0, 44.0, 41.0, 37.0, 37.0, 35.0, 36.0, 38.0, 41.0, 48.0, 56.0, 61.0, 64.0, 67.0, 68.0, 69.0, 69.0, 71.0, 71.0, 72.0, 69.0, 61.0, 55.0, 49.0, 43.0, 39.0, 38.0, 36.0, 31.0, 30.0, 30.0, 31.0, 39.0, 43.0, 51.0, 57.0, 61.0, 65.0, 67.5, 70.0, 76.0, 71.0, 78.0, 73.0, 68.0, 58.0, 49.0, 42.0, 37.0, 33.0, 29.0, 26.0, 24.0, 21.0, 19.0, 17.0, 22.0, 27.0, 37.0, 43.0, 45.0, 48.0, 50.0, 52.0, 63.0, 73.0, 84.0, 90.0, 83.0, 59.0, 45.0, 39.0, 35.0, 29.0, 23.0, 21.0, 20.0, 18.0, 18.0, 21.0, 25.0, 30.0, 40.0, 46.0, 45.0, 49.0, 51.0, 53.0, 63.0, 73.0, 83.0, 89.0, 84.0, 64.0, 51.0, 45.0, 41.0, 40.0, 34.0, 29.0, 29.0, 29.0, 28.0, 29.0, 28.0, 28.0, 40.0, 44.0, 42.0, 43.0, 48.0, 53.0, 63.0, 68.0, 75.0, 87.0, 83.0, 66.0, 56.0, 49.0, 41.0, 35.0, 25.0, 20.0, 22.0, 24.0, 30.0, 40.0, 44.0, 36.0, 41.0, 50.0, 58.0, 61.0, 58.0, 55.0, 53.0, 59.0, 67.0, 68.0, 70.0, 65.0, 51.0, 44.0, 44.0, 46.0, 44.0, 43.0, 42.0, 46.0, 52.0, 45.0, 49.0, 51.0, 53.0, 62.0, 69.0, 71.0, 69.5, 68.0, 64.0, 70.0, 69.0, 72.0, 73.0, 69.0, 63.0, 55.0, 49.0, 43.0, 37.0, 35.0, 35.0, 34.0, 35.0, 36.0, 39.0, 43.0, 49.0, 55.0, 62.0, 66.0, 69.5, 73.0, 81.0, 85.0, 87.0, 90.0, 89.0, 78.0, 70.0, 63.0, 55.0, 50.0, 45.0, 39.0, 37.0, 36.0, 34.0, 34.0, 42.0, 49.0, 56.0, 59.0, 62.0, 67.0, 72.5, 78.0, 86.0, 89.0, 92.0, 95.0, 90.0, 66.0, 54.0, 49.0, 45.0, 43.0, 39.0, 35.0, 35.0, 34.0, 36.0, 36.0, 47.0, 51.0, 56.0, 59.0, 62.0, 66.0, 68.0, 70.0, 72.0, 76.0, 80.0, 81.0, 77.0, 71.0, 63.0, 57.0, 49.0, 47.0, 43.0, 40.0, 39.0, 35.0, 33.0, 35.0, 39.0, 42.0, 48.0, 52.0, 58.0, 65.0, 70.5, 76.0, 83.0, 73.0, 53.0, 53.0, 53.0, 47.0, 44.0, 41.0, 39.0, 35.0, 34.0, 32.0, 30.0, 27.0, 26.0, 25.0, 26.0, 30.0, 36.0, 46.0, 47.0, 44.0, 56.5, 69.0, 76.0, 83.0, 90.0, 91.0, 80.0, 60.0, 50.0, 45.0, 42.0, 39.0, 33.0, 29.0, 29.0, 27.0, 25.0, 24.0, 23.0, 28.0, 28.0, 37.0, 37.0, 33.0, 38.0, 43.0, 63.0, 70.0, 73.0, 83.0, 80.0, 54.0, 47.0, 42.0, 37.0, 33.0, 31.0, 29.0, 27.0, 26.0, 28.0, 32.0, 41.0, 43.0, 33.0, 36.0, 42.0, 49.0, 61.0, 73.0, 74.0, 79.0, 87.0, 91.0, 87.0, 76.0, 68.0, 62.0, 58.0, 50.0, 45.0, 42.0, 43.0, 41.0, 40.0, 39.0, 33.0, 36.0, 43.0, 49.0, 57.0, 63.0, 70.0, 77.0, 81.0, 82.0, 86.0, 86.0, 81.0, 72.0, 63.0, 57.0, 53.0, 47.0, 44.0, 41.0, 38.0, 35.0, 35.0, 36.0, 39.0, 42.0, 45.0, 49.0, 55.0, 60.0, 66.5, 73.0, 80.0, 86.0, 88.0, 89.0, 87.0, 75.0, 64.0, 57.0, 53.0, 48.0, 45.0, 41.0, 37.0, 34.0, 32.0, 33.0, 41.0, 47.0, 52.0, 54.0, 52.0, 56.0, 63.0, 70.0, 76.0, 80.0, 85.0, 89.0, 86.0, 77.0, 67.0, 59.0, 54.0, 49.0, 44.0, 42.0, 38.0, 36.0, 35.0, 34.0, 40.0, 46.0, 53.0, 60.0, 62.0, 63.0, 64.0, 65.0, 74.0, 81.0, 85.0, 89.0, 85.0, 77.0, 69.0, 63.0, 58.0, 52.0, 48.0, 45.0, 42.0, 39.0, 39.0, 40.0, 43.0, 45.0, 50.0, 50.0, 55.0, 64.0, 64.0, 64.0, 69.0, 75.0, 78.0, 78.0, 81.0, 73.0, 67.0, 61.0, 54.0, 50.0, 49.0, 45.0, 41.0, 41.0, 40.0, 41.0, 45.0, 44.0, 45.0, 49.0, 53.0, 58.0, 63.5, 69.0, 77.0, 77.0, 82.0, 86.0, 84.0, 73.0, 65.0, 59.0, 56.0, 53.0, 50.0, 47.0, 45.0, 41.0, 41.0, 43.0, 48.0, 43.0, 47.0, 51.0, 51.0, 54.0, 61.0, 68.0, 73.0, 84.0, 88.0, 89.0, 89.0, 76.0, 66.0, 63.0, 59.0, 52.0, 44.0, 38.0, 39.0, 41.0, 31.0, 31.0, 32.0, 36.0, 45.0, 53.0, 59.0, 60.0, 63.0, 66.0, 66.0, 67.0, 69.0, 68.0, 64.0, 61.0, 53.0, 48.0, 46.0, 42.0, 37.0, 33.0, 30.0, 25.0, 24.0, 28.0, 33.0, 39.0, 47.0, 54.0, 59.0, 64.0, 67.0, 70.0, 78.0, 84.0, 80.0, 80.0, 76.0, 65.0, 51.0, 40.0, 37.0, 34.0, 33.0, 30.0, 28.0, 25.0, 24.0, 22.0, 27.0, 33.0, 42.0, 39.0, 37.0, 33.0, 38.0, 43.0, 54.0, 68.0, 77.0, 74.0, 71.0, 50.0, 39.0, 38.0, 32.0, 31.0, 31.0, 29.0, 25.0]\n"
     ]
    }
   ],
   "source": [
    "import pandas as pd\n",
    "\n",
    "# === Load and parse observed data ===\n",
    "df = pd.read_csv(\"/home/mpasillaspablo/CIMIS/70_Manteca_hly2020.csv\", dtype=str)\n",
    "\n",
    "# -- Combine and clean 'Date' + 'Hour' columns --\n",
    "date_strs = df[\"Date\"].str.strip()\n",
    "hour_strs = df[\"Hour (PST)\"].str.zfill(4).str.replace(r\"(\\d{2})(\\d{2})\", r\"\\1:\\2\", regex=True)\n",
    "dt_local = pd.to_datetime(date_strs + \" \" + hour_strs, format=\"%m/%d/%Y %H:%M\", errors=\"coerce\")\n",
    "df[\"DateTime\"] = dt_local.dt.tz_localize(\"America/Los_Angeles\", ambiguous=\"NaT\", nonexistent=\"NaT\").dt.tz_convert(\"UTC\").dt.tz_localize(None)\n",
    "\n",
    "# -- Extract and clean the variable from column index 16 --\n",
    "raw_var = df.iloc[:, 16].str.extract(r\"(\\d{1,3})\")[0]\n",
    "df[\"Variable\"] = pd.to_numeric(raw_var, errors=\"coerce\")\n",
    "\n",
    "# -- Drop rows without valid DateTime or Variable --\n",
    "df = df.dropna(subset=[\"DateTime\", \"Variable\"])\n",
    "\n",
    "# -- Filter for June 2020 only --\n",
    "june_data = df[(df[\"DateTime\"] >= \"2020-06-01\") & (df[\"DateTime\"] < \"2020-07-01\")].copy()\n",
    "\n",
    "# -- Set time index and ensure hourly regularity --\n",
    "june_data = june_data.set_index(\"DateTime\")[[\"Variable\"]]  # Keep only numeric column\n",
    "june_data = june_data.resample(\"h\").asfreq()  # hourly frequency, no aggregation\n",
    "\n",
    "# -- Interpolate missing values --\n",
    "june_data[\"Variable\"] = june_data[\"Variable\"].interpolate(method=\"time\", limit_direction=\"both\")\n",
    "\n",
    "# -- Remove the last 2 hours of June --\n",
    "june_data = june_data.iloc[:-2]\n",
    "\n",
    "# -- Final check for row count --\n",
    "assert len(june_data) == 718, f\"Unexpected row count: {len(june_data)}\"\n",
    "\n",
    "# -- Print result --\n",
    "print(june_data[\"Variable\"].to_list())\n"
   ]
  },
  {
   "cell_type": "code",
   "execution_count": 7,
   "id": "dbf5e57c-7a4b-46a3-949e-1aebcf26f3f5",
   "metadata": {},
   "outputs": [
    {
     "name": "stdout",
     "output_type": "stream",
     "text": [
      "Saved to /home/mpasillaspablo/CIMIS/RH_Files/70_june_RH_cleaned.csv\n"
     ]
    }
   ],
   "source": [
    "import pandas as pd\n",
    "\n",
    "# === Load and parse observed data ===\n",
    "df = pd.read_csv(\"/home/mpasillaspablo/CIMIS/70_Manteca_hly2020.csv\", dtype=str)\n",
    "\n",
    "# -- Combine and clean 'Date' + 'Hour' columns --\n",
    "date_strs = df[\"Date\"].str.strip()\n",
    "hour_strs = df[\"Hour (PST)\"].str.zfill(4).str.replace(r\"(\\d{2})(\\d{2})\", r\"\\1:\\2\", regex=True)\n",
    "dt_local = pd.to_datetime(date_strs + \" \" + hour_strs, format=\"%m/%d/%Y %H:%M\", errors=\"coerce\")\n",
    "df[\"DateTime\"] = dt_local.dt.tz_localize(\"America/Los_Angeles\", ambiguous=\"NaT\", nonexistent=\"NaT\").dt.tz_convert(\"UTC\").dt.tz_localize(None)\n",
    "\n",
    "# -- Extract and clean the variable from column index 16 --\n",
    "raw_var = df.iloc[:, 16].str.extract(r\"(\\d{1,3})\")[0]\n",
    "df[\"RH (%)\"] = pd.to_numeric(raw_var, errors=\"coerce\")\n",
    "\n",
    "# -- Drop rows without valid DateTime or RH values --\n",
    "df = df.dropna(subset=[\"DateTime\", \"RH (%)\"])\n",
    "\n",
    "# -- Filter for June 2020 only --\n",
    "june_data = df[(df[\"DateTime\"] >= \"2020-06-01\") & (df[\"DateTime\"] < \"2020-07-01\")].copy()\n",
    "\n",
    "# -- Set time index and ensure hourly regularity --\n",
    "june_data = june_data.set_index(\"DateTime\")[[\"RH (%)\"]]  # Keep only the RH column\n",
    "june_data = june_data.resample(\"h\").asfreq()  # hourly frequency\n",
    "\n",
    "# -- Interpolate missing values --\n",
    "june_data[\"RH (%)\"] = june_data[\"RH (%)\"].interpolate(method=\"time\", limit_direction=\"both\")\n",
    "\n",
    "# -- Remove the last 2 hours of June --\n",
    "june_data = june_data.iloc[:-2]\n",
    "\n",
    "# -- Final check for row count --\n",
    "assert len(june_data) == 718, f\"Unexpected row count: {len(june_data)}\"\n",
    "\n",
    "# -- Save to CSV --\n",
    "june_data.to_csv(\"/home/mpasillaspablo/CIMIS/RH_Files/70_june_RH_cleaned.csv\")\n",
    "\n",
    "# -- Confirmation --\n",
    "print(\"Saved to /home/mpasillaspablo/CIMIS/RH_Files/70_june_RH_cleaned.csv\")\n"
   ]
  },
  {
   "cell_type": "code",
   "execution_count": null,
   "id": "9ab64b8d-04e3-46ab-85fd-db5970d2dba9",
   "metadata": {},
   "outputs": [],
   "source": []
  }
 ],
 "metadata": {
  "kernelspec": {
   "display_name": "Python 3 (ipykernel)",
   "language": "python",
   "name": "python3"
  },
  "language_info": {
   "codemirror_mode": {
    "name": "ipython",
    "version": 3
   },
   "file_extension": ".py",
   "mimetype": "text/x-python",
   "name": "python",
   "nbconvert_exporter": "python",
   "pygments_lexer": "ipython3",
   "version": "3.10.16"
  }
 },
 "nbformat": 4,
 "nbformat_minor": 5
}
